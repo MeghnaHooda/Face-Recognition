{
 "cells": [
  {
   "cell_type": "code",
   "execution_count": 5,
   "metadata": {},
   "outputs": [],
   "source": [
    "import numpy as np\n",
    "import cv2\n",
    "import pickle\n",
    "\n",
    "face_cascade = cv2.CascadeClassifier('haarcascade_frontalface_alt2.xml')\n",
    "recognizer = cv2.face.createLBPHFaceRecognizer()\n",
    "recognizer.load(\"trainner.yml\")\n",
    "\n",
    "labels = {\"person_name\":1}\n",
    "with open(\"labels.pickle\", \"rb\") as f:\n",
    "    og_labels= pickle.load(f)\n",
    "    labels = {v:k for k,v in og_labels.items()}\n",
    "\n",
    "cap = cv2.VideoCapture(0)\n",
    "\n",
    "while(True):\n",
    "    #Capture frame by frame\n",
    "    ret, frame = cap.read()\n",
    "    \n",
    "    #converting the image to gray and finding the face\n",
    "    gray = cv2.cvtColor(frame, cv2.COLOR_BGR2GRAY)\n",
    "    faces = face_cascade.detectMultiScale(gray, scaleFactor=1.5, minNeighbors=5)\n",
    "    for(x, y, w, h) in faces:\n",
    "        roi_gray = gray[y:y+h, x:x+w]\n",
    "        roi_color = frame[y:y+h, x:x+w]\n",
    "        img_item = \"my-image.png\"\n",
    "        \n",
    "        id_, conf = recognizer.predict(roi_gray)\n",
    "        if conf>=45 and conf<= 85:\n",
    "            font = cv2.FONT_HERSHEY_SIMPLEX\n",
    "            name = labels[id_]\n",
    "            color =(255,0,0)\n",
    "            stroke = 2\n",
    "            cv2.putText(frame, name, (x,y), font,  1, color, stroke, cv2.LINE_AA)\n",
    "        \n",
    "        \n",
    "        cv2.imwrite(img_item, roi_color)\n",
    "        \n",
    "        color = (255, 0, 0)#BGR 0-255\n",
    "        stroke=2\n",
    "        endx = x + w\n",
    "        endy = y + h\n",
    "        cv2.rectangle(frame,(x,y),(endx, endy), color, stroke)\n",
    "        \n",
    "    \n",
    "    #Display the resulting frame\n",
    "    cv2.imshow('myframe',frame)\n",
    "    if cv2.waitKey(20) & 0xFF == ord('q'):\n",
    "        break\n",
    "        \n",
    "cap.release()\n",
    "cv2.destroyAllWindows()"
   ]
  },
  {
   "cell_type": "code",
   "execution_count": null,
   "metadata": {},
   "outputs": [],
   "source": []
  },
  {
   "cell_type": "code",
   "execution_count": null,
   "metadata": {},
   "outputs": [],
   "source": []
  }
 ],
 "metadata": {
  "kernelspec": {
   "display_name": "Python 3",
   "language": "python",
   "name": "python3"
  },
  "language_info": {
   "codemirror_mode": {
    "name": "ipython",
    "version": 3
   },
   "file_extension": ".py",
   "mimetype": "text/x-python",
   "name": "python",
   "nbconvert_exporter": "python",
   "pygments_lexer": "ipython3",
   "version": "3.6.5"
  }
 },
 "nbformat": 4,
 "nbformat_minor": 2
}
